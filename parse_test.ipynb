{
 "cells": [
  {
   "cell_type": "code",
   "execution_count": 2,
   "id": "dd9da6cc",
   "metadata": {},
   "outputs": [
    {
     "data": {
      "text/plain": [
       "Optimization: 3\n"
      ]
     },
     "execution_count": 2,
     "metadata": {},
     "output_type": "execute_result"
    }
   ],
   "source": [
    ":opt 3"
   ]
  },
  {
   "cell_type": "code",
   "execution_count": 3,
   "id": "7a54923f",
   "metadata": {},
   "outputs": [],
   "source": [
    ":dep route_policy_cmp = { path = \"route_policy_cmp\" }"
   ]
  },
  {
   "cell_type": "code",
   "execution_count": 4,
   "id": "523f3c36",
   "metadata": {},
   "outputs": [],
   "source": [
    "use route_policy_cmp::{bgp::cmp::Compare, parse::dump::Dump};\n",
    "use std::{\n",
    "    fs::File,\n",
    "    io::{prelude::*, BufReader},\n",
    "};"
   ]
  },
  {
   "cell_type": "code",
   "execution_count": 5,
   "id": "4add19b1",
   "metadata": {},
   "outputs": [],
   "source": [
    "let parsed = Dump::pal_read(\"parsed\")?;"
   ]
  },
  {
   "cell_type": "code",
   "execution_count": 6,
   "id": "d2b25d7c",
   "metadata": {
    "scrolled": true
   },
   "outputs": [],
   "source": [
    "let bgp_file: Vec<String> = BufReader::new(File::open(\"data/bgp_routes_eg.txt\")?)\n",
    "    .lines()\n",
    "    .map(|l| l.unwrap())\n",
    "    .collect();"
   ]
  },
  {
   "cell_type": "code",
   "execution_count": 7,
   "id": "ccfafcc2",
   "metadata": {},
   "outputs": [
    {
     "data": {
      "text/plain": [
       "[Bad([NoMatch(FilterAsNum(201106, NoOp)), NoMatch(FilterAsNum(201106, NoOp)), NoMatch(NoExportRule(201106, 64271))]), Neutral([Skip(AutNumUnrecorded(64271))])]"
      ]
     },
     "execution_count": 7,
     "metadata": {},
     "output_type": "execute_result"
    }
   ],
   "source": [
    "Compare::with_line_dump(&bgp_file[2], &parsed)?.check()"
   ]
  },
  {
   "cell_type": "code",
   "execution_count": 8,
   "id": "f2c8192c",
   "metadata": {},
   "outputs": [
    {
     "data": {
      "text/plain": [
       "[]"
      ]
     },
     "execution_count": 8,
     "metadata": {},
     "output_type": "execute_result"
    }
   ],
   "source": [
    "Compare::with_line_dump(&bgp_file[3], &parsed)?.check()"
   ]
  }
 ],
 "metadata": {
  "kernelspec": {
   "display_name": "Rust",
   "language": "rust",
   "name": "rust"
  },
  "language_info": {
   "codemirror_mode": "rust",
   "file_extension": ".rs",
   "mimetype": "text/rust",
   "name": "Rust",
   "pygment_lexer": "rust",
   "version": ""
  }
 },
 "nbformat": 4,
 "nbformat_minor": 5
}
