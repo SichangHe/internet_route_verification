{
 "cells": [
  {
   "cell_type": "code",
   "execution_count": 2,
   "id": "dd9da6cc",
   "metadata": {},
   "outputs": [
    {
     "data": {
      "text/plain": [
       "Optimization: 3\n"
      ]
     },
     "execution_count": 2,
     "metadata": {},
     "output_type": "execute_result"
    }
   ],
   "source": [
    ":opt 3"
   ]
  },
  {
   "cell_type": "code",
   "execution_count": 3,
   "id": "7a54923f",
   "metadata": {},
   "outputs": [],
   "source": [
    ":dep route_verification = { path = \"route_verification\" }"
   ]
  },
  {
   "cell_type": "code",
   "execution_count": 4,
   "id": "523f3c36",
   "metadata": {},
   "outputs": [],
   "source": [
    "use route_verification::{bgp::*, parse::*};\n",
    "use std::{\n",
    "    fs::File,\n",
    "    io::{prelude::*, BufReader},\n",
    "    time::Instant,\n",
    "};"
   ]
  },
  {
   "cell_type": "code",
   "execution_count": 5,
   "id": "4add19b1",
   "metadata": {},
   "outputs": [
    {
     "name": "stdout",
     "output_type": "stream",
     "text": [
      "Read dump in 631ms.\n"
     ]
    }
   ],
   "source": [
    "let start = Instant::now();\n",
    "let parsed = Dump::pal_read(\"parsed_all\")?;\n",
    "println!(\"Read dump in {}ms.\", start.elapsed().as_millis());\n",
    "let query = QueryDump::from_dump(parsed);"
   ]
  },
  {
   "cell_type": "code",
   "execution_count": 6,
   "id": "d2b25d7c",
   "metadata": {
    "scrolled": true
   },
   "outputs": [
    {
     "name": "stdout",
     "output_type": "stream",
     "text": [
      "Read BGP file in 1ms.\n"
     ]
    }
   ],
   "source": [
    "let start = Instant::now();\n",
    "let bgp_file: Vec<String> = BufReader::new(File::open(\"data/bgp_routes_eg.txt\")?)\n",
    "    .lines()\n",
    "    .map(|l| l.unwrap())\n",
    "    .collect();\n",
    "println!(\"Read BGP file in {}ms.\", start.elapsed().as_millis());"
   ]
  },
  {
   "cell_type": "code",
   "execution_count": 7,
   "id": "ccfafcc2",
   "metadata": {},
   "outputs": [
    {
     "data": {
      "text/plain": [
       "[BadExport { from: 201106, to: 64271, items: [] }]"
      ]
     },
     "execution_count": 7,
     "metadata": {},
     "output_type": "execute_result"
    }
   ],
   "source": [
    "Compare::with_line_dump(&bgp_file[2])?.check(&query)"
   ]
  },
  {
   "cell_type": "code",
   "execution_count": 8,
   "id": "f2c8192c",
   "metadata": {},
   "outputs": [
    {
     "data": {
      "text/plain": [
       "[]"
      ]
     },
     "execution_count": 8,
     "metadata": {},
     "output_type": "execute_result"
    }
   ],
   "source": [
    "Compare::with_line_dump(&bgp_file[3])?.check(&query)"
   ]
  }
 ],
 "metadata": {
  "kernelspec": {
   "display_name": "Rust",
   "language": "rust",
   "name": "rust"
  },
  "language_info": {
   "codemirror_mode": "rust",
   "file_extension": ".rs",
   "mimetype": "text/rust",
   "name": "Rust",
   "pygment_lexer": "rust",
   "version": ""
  }
 },
 "nbformat": 4,
 "nbformat_minor": 5
}
