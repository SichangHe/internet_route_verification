{
 "cells": [
  {
   "cell_type": "code",
   "execution_count": 2,
   "id": "00174486",
   "metadata": {},
   "outputs": [
    {
     "data": {
      "text/plain": [
       "Optimization: 3\n"
      ]
     },
     "execution_count": 2,
     "metadata": {},
     "output_type": "execute_result"
    }
   ],
   "source": [
    ":opt 3"
   ]
  },
  {
   "cell_type": "code",
   "execution_count": 3,
   "id": "859cd17d",
   "metadata": {},
   "outputs": [],
   "source": [
    ":dep route_policy_cmp = { path = \"route_policy_cmp\" }"
   ]
  },
  {
   "cell_type": "code",
   "execution_count": 4,
   "id": "020db7c5",
   "metadata": {},
   "outputs": [],
   "source": [
    "use route_policy_cmp::parse::lex::Dump;"
   ]
  },
  {
   "cell_type": "code",
   "execution_count": 5,
   "id": "13efb584",
   "metadata": {},
   "outputs": [],
   "source": [
    "let file = std::fs::File::open(\"./parsed.json\")?;\n",
    "let parsed = Dump::from_reader(file)?;"
   ]
  },
  {
   "cell_type": "code",
   "execution_count": 6,
   "id": "67c1e749",
   "metadata": {},
   "outputs": [
    {
     "data": {
      "text/plain": [
       "Some((7, AutNum { body: \"as-name: DSTL\\norg: ORG-TDSA4-RIPE\\nimport: from AS786 action pref=50; accept ANY\\ndefault: to AS786 action pref=1; networks ANY\\nadmin-c: DUMY-RIPE\\ntech-c: DUMY-RIPE\\nstatus: LEGACY\\nmnt-by: JIPS-NOSC\\nmnt-by: DSTL-MNT\\ncreated: 2002-05-27T10:16:30Z\\nlast-modified: 2018-11-05T09:31:24Z\\nsource: RIPE\\nremarks: ****************************\\nremarks: * THIS OBJECT IS MODIFIED\\nremarks: * Please note that all data that is generally regarded as personal\\nremarks: * data has been removed from this object.\\nremarks: * To view the original object, please query the RIPE Database at:\\nremarks: * http://www.ripe.net/whois\\nremarks: ****************************\\n\", imports: Versions { any: Casts { any: [Entry { mp_peerings: [PeeringAction { mp_peering: Peering { remote_as: Single(Num(786)), remote_router: None, local_router: None }, actions: {\"pref\": Assigned(\"50\")} }], mp_filter: Any }], unicast: [], multicast: [] }, ipv4: Casts { any: [], unicast: [], multicast: [] }, ipv6: Casts { any: [], unicast: [], multicast: [] } }, exports: Versions { any: Casts { any: [], unicast: [], multicast: [] }, ipv4: Casts { any: [], unicast: [], multicast: [] }, ipv6: Casts { any: [], unicast: [], multicast: [] } } }))"
      ]
     },
     "execution_count": 6,
     "metadata": {},
     "output_type": "execute_result"
    }
   ],
   "source": [
    "parsed.aut_nums.iter().next()"
   ]
  }
 ],
 "metadata": {
  "kernelspec": {
   "display_name": "Rust",
   "language": "rust",
   "name": "rust"
  },
  "language_info": {
   "codemirror_mode": "rust",
   "file_extension": ".rs",
   "mimetype": "text/rust",
   "name": "Rust",
   "pygment_lexer": "rust",
   "version": ""
  }
 },
 "nbformat": 4,
 "nbformat_minor": 5
}
