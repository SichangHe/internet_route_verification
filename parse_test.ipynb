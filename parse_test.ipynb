{
 "cells": [
  {
   "cell_type": "code",
   "execution_count": 2,
   "id": "00174486",
   "metadata": {
    "scrolled": false
   },
   "outputs": [
    {
     "data": {
      "text/plain": [
       "Optimization: 3\n"
      ]
     },
     "execution_count": 2,
     "metadata": {},
     "output_type": "execute_result"
    }
   ],
   "source": [
    ":opt 3"
   ]
  },
  {
   "cell_type": "code",
   "execution_count": 3,
   "id": "859cd17d",
   "metadata": {},
   "outputs": [],
   "source": [
    ":dep route_policy_cmp = { path = \"route_policy_cmp\" }"
   ]
  },
  {
   "cell_type": "code",
   "execution_count": 4,
   "id": "020db7c5",
   "metadata": {},
   "outputs": [],
   "source": [
    "use route_policy_cmp::{bgp::cmp::compare_line_w_dump, parse::lex::Dump, serde::from_reader};\n",
    "use std::{\n",
    "    fs::File,\n",
    "    io::{prelude::*, BufReader},\n",
    "};"
   ]
  },
  {
   "cell_type": "code",
   "execution_count": 5,
   "id": "13efb584",
   "metadata": {},
   "outputs": [],
   "source": [
    "let parsed: Dump = from_reader(File::open(\"parsed.json\")?)?;"
   ]
  },
  {
   "cell_type": "code",
   "execution_count": 6,
   "id": "8158cc1e",
   "metadata": {},
   "outputs": [],
   "source": [
    "let bgp_file: Vec<String> = BufReader::new(File::open(\"data/bgp_routes_eg.txt\")?)\n",
    "    .lines()\n",
    "    .map(|l| l.unwrap())\n",
    "    .collect();"
   ]
  },
  {
   "cell_type": "code",
   "execution_count": 7,
   "id": "92e69993",
   "metadata": {},
   "outputs": [
    {
     "data": {
      "text/plain": [
       "Some((7, AutNum { body: \"as-name: DSTL\\norg: ORG-TDSA4-RIPE\\nimport: from AS786 action pref=50; accept ANY\\ndefault: to AS786 action pref=1; networks ANY\\nadmin-c: DUMY-RIPE\\ntech-c: DUMY-RIPE\\nstatus: LEGACY\\nmnt-by: JIPS-NOSC\\nmnt-by: DSTL-MNT\\ncreated: 2002-05-27T10:16:30Z\\nlast-modified: 2018-11-05T09:31:24Z\\nsource: RIPE\\nremarks: ****************************\\nremarks: * THIS OBJECT IS MODIFIED\\nremarks: * Please note that all data that is generally regarded as personal\\nremarks: * data has been removed from this object.\\nremarks: * To view the original object, please query the RIPE Database at:\\nremarks: * http://www.ripe.net/whois\\nremarks: ****************************\\n\", imports: Versions { any: Casts { any: [Entry { mp_peerings: [PeeringAction { mp_peering: Peering { remote_as: Single(Num(786)), remote_router: None, local_router: None }, actions: {\"pref\": Assigned(\"50\")} }], mp_filter: Any }], unicast: [], multicast: [] }, ipv4: Casts { any: [], unicast: [], multicast: [] }, ipv6: Casts { any: [], unicast: [], multicast: [] } }, exports: Versions { any: Casts { any: [], unicast: [], multicast: [] }, ipv4: Casts { any: [], unicast: [], multicast: [] }, ipv6: Casts { any: [], unicast: [], multicast: [] } } }))"
      ]
     },
     "execution_count": 7,
     "metadata": {},
     "output_type": "execute_result"
    }
   ],
   "source": [
    "parsed.aut_nums.iter().next()"
   ]
  },
  {
   "cell_type": "code",
   "execution_count": 8,
   "id": "40713334",
   "metadata": {},
   "outputs": [
    {
     "data": {
      "text/plain": [
       "\"TABLE_DUMP2|1598918400|B|103.102.5.1|131477|0.0.0.0/0|131477 58879|IGP|103.102.5.1|0|0||NAG||\""
      ]
     },
     "execution_count": 8,
     "metadata": {},
     "output_type": "execute_result"
    }
   ],
   "source": [
    "bgp_file[0]"
   ]
  },
  {
   "cell_type": "code",
   "execution_count": 9,
   "id": "89ab25d4",
   "metadata": {},
   "outputs": [
    {
     "data": {
      "text/plain": [
       "Ok([Neutral([Skip(\"58879 is not a recorded AutNum\")]), Neutral([Skip(\"131477 is not a recorded AutNum\")])])"
      ]
     },
     "execution_count": 9,
     "metadata": {},
     "output_type": "execute_result"
    }
   ],
   "source": [
    "compare_line_w_dump(&bgp_file[0], &parsed)"
   ]
  }
 ],
 "metadata": {
  "kernelspec": {
   "display_name": "Rust",
   "language": "rust",
   "name": "rust"
  },
  "language_info": {
   "codemirror_mode": "rust",
   "file_extension": ".rs",
   "mimetype": "text/rust",
   "name": "Rust",
   "pygment_lexer": "rust",
   "version": ""
  }
 },
 "nbformat": 4,
 "nbformat_minor": 5
}
